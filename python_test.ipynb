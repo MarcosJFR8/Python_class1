{
 "cells": [
  {
   "cell_type": "code",
   "execution_count": 14,
   "metadata": {},
   "outputs": [
    {
     "name": "stdout",
     "output_type": "stream",
     "text": [
      "Buenos días\n"
     ]
    }
   ],
   "source": [
    "print(\"Buenos días\")\n"
   ]
  },
  {
   "cell_type": "markdown",
   "metadata": {},
   "source": [
    "### Esta es la clase de \n",
    "* Variables\n",
    "* Operadores matemáticos básicos\n",
    "* Operadores de comparación\n",
    "* Condicionales\n",
    "    - Simples\n",
    "    - Animados\n",
    "    - Encadenados\n",
    "* Estructuras de datos\n",
    "    - Listas\n",
    "    - Cadenas de caracteres\n",
    "    - Diccionarios\n",
    "    - Tuplas\n",
    "* Estructuras de control\n",
    "    - Funciones\n",
    "    - Ciclos finitos\n",
    "    - Ciclos infinitos"
   ]
  },
  {
   "cell_type": "code",
   "execution_count": 23,
   "metadata": {},
   "outputs": [],
   "source": [
    "# Variables en Python\n",
    "name = \"josefino\""
   ]
  },
  {
   "cell_type": "code",
   "execution_count": 24,
   "metadata": {},
   "outputs": [
    {
     "data": {
      "text/plain": [
       "'josefino'"
      ]
     },
     "execution_count": 24,
     "metadata": {},
     "output_type": "execute_result"
    }
   ],
   "source": [
    "name"
   ]
  },
  {
   "cell_type": "code",
   "execution_count": 25,
   "metadata": {},
   "outputs": [],
   "source": [
    "# cuando la variable tiene mas de una palabra\n",
    "last_name = \"primero\"\n",
    " \n"
   ]
  },
  {
   "cell_type": "code",
   "execution_count": 26,
   "metadata": {},
   "outputs": [
    {
     "data": {
      "text/plain": [
       "'primero'"
      ]
     },
     "execution_count": 26,
     "metadata": {},
     "output_type": "execute_result"
    }
   ],
   "source": [
    "last_name"
   ]
  },
  {
   "cell_type": "code",
   "execution_count": null,
   "metadata": {},
   "outputs": [],
   "source": [
    "# MALA PRACTICA!!\n",
    "\n",
    "#Lastname=\"primero\"\n",
    "#last.name = \"primero\"\n",
    "#last*name = \"primero\"\n",
    "last-name = \"primero\"\n",
    "\n"
   ]
  },
  {
   "cell_type": "code",
   "execution_count": 35,
   "metadata": {},
   "outputs": [
    {
     "data": {
      "text/plain": [
       "'primero'"
      ]
     },
     "execution_count": 35,
     "metadata": {},
     "output_type": "execute_result"
    }
   ],
   "source": [
    "# Errores de semantica. Trabajar en minuscula, si la variable es larga colocar underscore. Guiarse por el PEP 8 \n",
    "LastName = \"primero\"\n",
    "LastName"
   ]
  },
  {
   "cell_type": "code",
   "execution_count": 73,
   "metadata": {},
   "outputs": [
    {
     "data": {
      "text/plain": [
       "float"
      ]
     },
     "execution_count": 73,
     "metadata": {},
     "output_type": "execute_result"
    }
   ],
   "source": [
    "num_3 = input(\"num_3: \")\n",
    "num_3 = float(num_3)\n",
    "type(num_3)"
   ]
  },
  {
   "cell_type": "code",
   "execution_count": 62,
   "metadata": {},
   "outputs": [
    {
     "name": "stdout",
     "output_type": "stream",
     "text": [
      "Hola Buenos días Josefino mucho gusto\n",
      "Hola Marcos\n"
     ]
    }
   ],
   "source": [
    "# saludos\n",
    "name_1 = \"Marcos\"\n",
    "print(f\"Hola {name} mucho gusto\")\n",
    "\n",
    "name = input(\"Buenos días Josefino\")\n",
    "print(f\"Hola {name_1}\")"
   ]
  },
  {
   "cell_type": "code",
   "execution_count": 21,
   "metadata": {},
   "outputs": [
    {
     "name": "stdout",
     "output_type": "stream",
     "text": [
      "el resultado de la suma es: 2.0\n",
      "el resultado de la resta es: 0.0\n",
      "el resultado de la multiplicacion es: 1.0\n",
      "el resultado de la division es: 1.0\n"
     ]
    }
   ],
   "source": [
    "# operadres matemáticos\n",
    "num_1 = input(\"ingrese el primer numero\")\n",
    "num_1 = float(num_1)\n",
    "\n",
    "\n",
    "num_2 = input(\"ingrese el segundo numero\")\n",
    "num_2 = float(num_2)\n",
    "\n",
    "\n",
    "# sumas\n",
    "result_1 = num_1 + num_2\n",
    "float(result_1)\n",
    "\n",
    "# restas\n",
    "result_2 = num_1 - num_2\n",
    "\n",
    "# multiplicacion\n",
    "result_3 = num_1 * num_2\n",
    "\n",
    "# division\n",
    "result_4 = num_1 / num_2\n",
    "\n",
    "# resultados\n",
    "print(f\"el resultado de la suma es: {result_1}\")\n",
    "print(f\"el resultado de la resta es: {result_2}\")\n",
    "print(f\"el resultado de la multiplicacion es: {result_3}\")\n",
    "print(f\"el resultado de la division es: {result_4}\")"
   ]
  },
  {
   "cell_type": "code",
   "execution_count": 97,
   "metadata": {},
   "outputs": [
    {
     "data": {
      "text/plain": [
       "True"
      ]
     },
     "execution_count": 97,
     "metadata": {},
     "output_type": "execute_result"
    }
   ],
   "source": [
    "# operadores de comparacion\n",
    "\n",
    "# mayor que >\n",
    "# menor que <\n",
    "# mayor igual >=\n",
    "# menor igual <=\n",
    "# igual ==\n",
    "# diferente !=\n",
    "\n",
    "20==20"
   ]
  },
  {
   "cell_type": "code",
   "execution_count": null,
   "metadata": {},
   "outputs": [],
   "source": [
    "# condicionales\n",
    "name = input(\"ingrese su nombre\")\n",
    "\n",
    "#if condicion:\n",
    "    #hago algo\n",
    "\n",
    "if name == \"josefino\":\n",
    "    print(\"no me hables cerdo\")"
   ]
  },
  {
   "cell_type": "code",
   "execution_count": 13,
   "metadata": {},
   "outputs": [
    {
     "name": "stdout",
     "output_type": "stream",
     "text": [
      "mayor o igual que 10\n"
     ]
    }
   ],
   "source": [
    "# condicionales\n",
    "num = float ( input(\"ingrese un numerito\") )\n",
    "\n",
    "#if condicion:\n",
    "    #hago algo\n",
    "\n",
    "if num >= 10:\n",
    "    print(\"mayor o igual que 10\")\n",
    "else:\n",
    "    print(\"es menor que 10\")    "
   ]
  },
  {
   "cell_type": "code",
   "execution_count": 18,
   "metadata": {},
   "outputs": [
    {
     "name": "stdout",
     "output_type": "stream",
     "text": [
      "fuera de rango\n"
     ]
    }
   ],
   "source": [
    "# condicionales\n",
    "num = float ( input(\"ingrese un numerito\") )\n",
    "\n",
    "#if condicion:\n",
    "    #hago algo\n",
    "\n",
    "if (num >= 10) and (num <= 20):\n",
    "    print(\"entre 10 y 20\")\n",
    "else:\n",
    "    print(\"fuera de rango\")    "
   ]
  },
  {
   "cell_type": "code",
   "execution_count": null,
   "metadata": {},
   "outputs": [],
   "source": [
    "# operadores logicos:\n",
    "# and, or, not "
   ]
  },
  {
   "cell_type": "code",
   "execution_count": 22,
   "metadata": {},
   "outputs": [
    {
     "name": "stdout",
     "output_type": "stream",
     "text": [
      "el resultado de la suma es: 9.0\n",
      "el resultado de la resta es: 1.0\n",
      "el resultado de la multiplicacion es: 20.0\n",
      "el resultado de la division es: 1.25\n"
     ]
    }
   ],
   "source": [
    "# operadres matemáticos\n",
    "num_1 = input(\"ingrese el primer numero\")\n",
    "num_1 = float(num_1)\n",
    "\n",
    "\n",
    "num_2 = input(\"ingrese el segundo numero\")\n",
    "num_2 = float(num_2)\n",
    "\n",
    "#Tarea: pregunte por la operacion\n",
    "\n",
    "# sumas\n",
    "result_1 = num_1 + num_2\n",
    "print(f\"el resultado de la suma es: {result_1}\")\n",
    "\n",
    "# restas\n",
    "result_2 = num_1 - num_2\n",
    "print(f\"el resultado de la resta es: {result_2}\")\n",
    "\n",
    "\n",
    "# multiplicacion\n",
    "result_3 = num_1 * num_2\n",
    "print(f\"el resultado de la multiplicacion es: {result_3}\")\n",
    "\n",
    "\n",
    "# division\n",
    "result_4 = num_1 / num_2\n",
    "print(f\"el resultado de la division es: {result_4}\")"
   ]
  }
 ],
 "metadata": {
  "kernelspec": {
   "display_name": "Python 3",
   "language": "python",
   "name": "python3"
  },
  "language_info": {
   "codemirror_mode": {
    "name": "ipython",
    "version": 3
   },
   "file_extension": ".py",
   "mimetype": "text/x-python",
   "name": "python",
   "nbconvert_exporter": "python",
   "pygments_lexer": "ipython3",
   "version": "3.12.2"
  }
 },
 "nbformat": 4,
 "nbformat_minor": 2
}
